{
 "cells": [
  {
   "cell_type": "markdown",
   "metadata": {},
   "source": [
    "# Implementing Decision Tree"
   ]
  },
  {
   "cell_type": "markdown",
   "metadata": {},
   "source": [
    "We will try decision tree and find the R2 score, then we will try to tune our model and imporve it.\n",
    "Authors:\n",
    "- Nooruddin Shaikh\n",
    "- Milind Sai\n",
    "- Saurabh Jejurkar\n",
    "- Kartik Bhargav"
   ]
  },
  {
   "cell_type": "code",
   "execution_count": 30,
   "metadata": {},
   "outputs": [],
   "source": [
    "import pandas as pd\n",
    "import seaborn as sns\n",
    "import matplotlib.pyplot as plt\n",
    "from sklearn.model_selection import train_test_split\n",
    "from sklearn.tree import DecisionTreeRegressor\n",
    "from sklearn.model_selection import cross_val_score\n",
    "from sklearn.model_selection import GridSearchCV\n",
    "from sklearn import metrics\n",
    "from sklearn.metrics import r2_score\n",
    "from datetime import datetime\n",
    "import numpy as np\n",
    "import warnings\n",
    "warnings.filterwarnings('ignore')\n",
    "%matplotlib inline"
   ]
  },
  {
   "cell_type": "code",
   "execution_count": 4,
   "metadata": {},
   "outputs": [
    {
     "data": {
      "text/html": [
       "<div>\n",
       "<style scoped>\n",
       "    .dataframe tbody tr th:only-of-type {\n",
       "        vertical-align: middle;\n",
       "    }\n",
       "\n",
       "    .dataframe tbody tr th {\n",
       "        vertical-align: top;\n",
       "    }\n",
       "\n",
       "    .dataframe thead th {\n",
       "        text-align: right;\n",
       "    }\n",
       "</style>\n",
       "<table border=\"1\" class=\"dataframe\">\n",
       "  <thead>\n",
       "    <tr style=\"text-align: right;\">\n",
       "      <th></th>\n",
       "      <th>PM2.5</th>\n",
       "      <th>NO2</th>\n",
       "      <th>CO</th>\n",
       "      <th>SO2</th>\n",
       "      <th>O3</th>\n",
       "      <th>AQI</th>\n",
       "    </tr>\n",
       "  </thead>\n",
       "  <tbody>\n",
       "    <tr>\n",
       "      <th>0</th>\n",
       "      <td>83.13</td>\n",
       "      <td>28.71</td>\n",
       "      <td>6.93</td>\n",
       "      <td>49.52</td>\n",
       "      <td>59.76</td>\n",
       "      <td>209.0</td>\n",
       "    </tr>\n",
       "    <tr>\n",
       "      <th>1</th>\n",
       "      <td>79.84</td>\n",
       "      <td>28.68</td>\n",
       "      <td>13.85</td>\n",
       "      <td>48.49</td>\n",
       "      <td>97.07</td>\n",
       "      <td>328.0</td>\n",
       "    </tr>\n",
       "    <tr>\n",
       "      <th>2</th>\n",
       "      <td>94.52</td>\n",
       "      <td>32.66</td>\n",
       "      <td>24.39</td>\n",
       "      <td>67.39</td>\n",
       "      <td>111.33</td>\n",
       "      <td>514.0</td>\n",
       "    </tr>\n",
       "    <tr>\n",
       "      <th>3</th>\n",
       "      <td>135.99</td>\n",
       "      <td>42.08</td>\n",
       "      <td>43.48</td>\n",
       "      <td>75.23</td>\n",
       "      <td>102.70</td>\n",
       "      <td>782.0</td>\n",
       "    </tr>\n",
       "    <tr>\n",
       "      <th>4</th>\n",
       "      <td>178.33</td>\n",
       "      <td>35.31</td>\n",
       "      <td>54.56</td>\n",
       "      <td>55.04</td>\n",
       "      <td>107.38</td>\n",
       "      <td>914.0</td>\n",
       "    </tr>\n",
       "  </tbody>\n",
       "</table>\n",
       "</div>"
      ],
      "text/plain": [
       "    PM2.5    NO2     CO    SO2      O3    AQI\n",
       "0   83.13  28.71   6.93  49.52   59.76  209.0\n",
       "1   79.84  28.68  13.85  48.49   97.07  328.0\n",
       "2   94.52  32.66  24.39  67.39  111.33  514.0\n",
       "3  135.99  42.08  43.48  75.23  102.70  782.0\n",
       "4  178.33  35.31  54.56  55.04  107.38  914.0"
      ]
     },
     "execution_count": 4,
     "metadata": {},
     "output_type": "execute_result"
    }
   ],
   "source": [
    "data = pd.read_csv(\"Data/final_data.csv\")\n",
    "data.head()"
   ]
  },
  {
   "cell_type": "code",
   "execution_count": 32,
   "metadata": {},
   "outputs": [],
   "source": [
    "#Splitting Data\n",
    "X = data.iloc[:, :-1] #Independent features\n",
    "y = data.iloc[:, -1] #Dependent feature\n",
    "\n",
    "#Train Test Splitting\n",
    "X_train, X_test, y_train, y_test = train_test_split(X, y, test_size=0.3, random_state=1)"
   ]
  },
  {
   "cell_type": "code",
   "execution_count": 33,
   "metadata": {},
   "outputs": [
    {
     "data": {
      "text/plain": [
       "DecisionTreeRegressor()"
      ]
     },
     "execution_count": 33,
     "metadata": {},
     "output_type": "execute_result"
    }
   ],
   "source": [
    "#Calling and Fitting model\n",
    "model = DecisionTreeRegressor(criterion=\"mse\")\n",
    "model.fit(X_train,y_train)"
   ]
  },
  {
   "cell_type": "code",
   "execution_count": 34,
   "metadata": {},
   "outputs": [
    {
     "name": "stdout",
     "output_type": "stream",
     "text": [
      "Coefficient of determination R^2 <-- on train set: 1.0\n",
      "Coefficient of determination R^2 <-- on test set: 0.7801934868134524\n"
     ]
    }
   ],
   "source": [
    "print(\"Coefficient of determination R^2 <-- on train set: {}\".format(model.score(X_train, y_train)))\n",
    "print(\"Coefficient of determination R^2 <-- on test set: {}\".format(model.score(X_test, y_test)))"
   ]
  },
  {
   "cell_type": "markdown",
   "metadata": {},
   "source": [
    "We can clearly see model is overfitting. Let's try Cross Validation"
   ]
  },
  {
   "cell_type": "markdown",
   "metadata": {},
   "source": [
    "# Cross Validation"
   ]
  },
  {
   "cell_type": "code",
   "execution_count": 35,
   "metadata": {},
   "outputs": [
    {
     "data": {
      "text/plain": [
       "0.673982687715071"
      ]
     },
     "execution_count": 35,
     "metadata": {},
     "output_type": "execute_result"
    }
   ],
   "source": [
    "score=cross_val_score(model,X,y,cv=5)\n",
    "score.mean()"
   ]
  },
  {
   "cell_type": "code",
   "execution_count": 36,
   "metadata": {},
   "outputs": [
    {
     "data": {
      "text/plain": [
       "<AxesSubplot:xlabel='AQI', ylabel='Density'>"
      ]
     },
     "execution_count": 36,
     "metadata": {},
     "output_type": "execute_result"
    },
    {
     "data": {
      "image/png": "[encoded data removed]",
      "text/plain": [
       "<Figure size 432x288 with 1 Axes>"
      ]
     },
     "metadata": {
      "needs_background": "light"
     },
     "output_type": "display_data"
    }
   ],
   "source": [
    "prediction=model.predict(X_test)\n",
    "sns.distplot(y_test-prediction)"
   ]
  },
  {
   "cell_type": "code",
   "execution_count": 37,
   "metadata": {},
   "outputs": [
    {
     "data": {
      "text/plain": [
       "<matplotlib.collections.PathCollection at 0x212ff9b1d30>"
      ]
     },
     "execution_count": 37,
     "metadata": {},
     "output_type": "execute_result"
    },
    {
     "data": {
      "image/png": "[encoded data removed]",
      "text/plain": [
       "<Figure size 432x288 with 1 Axes>"
      ]
     },
     "metadata": {
      "needs_background": "light"
     },
     "output_type": "display_data"
    }
   ],
   "source": [
    "plt.scatter(y_test,prediction)"
   ]
  },
  {
   "cell_type": "markdown",
   "metadata": {},
   "source": [
    "Even after cross validation, we are getting low accuracy. Let's tune the model and see the result."
   ]
  },
  {
   "cell_type": "markdown",
   "metadata": {},
   "source": [
    "#  Hyper Parameter Tunning"
   ]
  },
  {
   "cell_type": "code",
   "execution_count": 21,
   "metadata": {},
   "outputs": [],
   "source": [
    "params={\n",
    "\"splitter\" : [\"best\", \"random\"] ,\n",
    "\"max_depth\" : [1, 3, 5, 7, 9, 11, 12, 15],\n",
    "\"min_samples_leaf\" : [1, 2, 3, 4, 5, 6, 7, 8, 9, 10],\n",
    "\"min_weight_fraction_leaf\":[0.1, 0.2, 0.3, 0.4, 0.5, 0.6, 0.7, 0.8, 0.9],\n",
    "\"max_features\" : [\"auto\", \"log2\", \"sqrt\", None],\n",
    "\"max_leaf_nodes\" : [None, 10, 20, 30, 40, 50, 60, 70, 80, 90] \n",
    "}"
   ]
  },
  {
   "cell_type": "code",
   "execution_count": 23,
   "metadata": {},
   "outputs": [],
   "source": [
    "# Fitting GridSearchCV\n",
    "random_search=GridSearchCV(model, param_grid=params, scoring='neg_mean_squared_error', n_jobs=-1,cv=10, verbose=3)"
   ]
  },
  {
   "cell_type": "code",
   "execution_count": 24,
   "metadata": {},
   "outputs": [],
   "source": [
    "#Using time function to calculate total time taken for tunning\n",
    "def timer(start_time=None):\n",
    "    if not start_time:\n",
    "        start_time = datetime.now()\n",
    "        return start_time\n",
    "    elif start_time:\n",
    "        thour, temp_sec = divmod((datetime.now() - start_time).total_seconds(), 3600)\n",
    "        tmin, tsec = divmod(temp_sec, 60)\n",
    "        print('\\n Time taken: %i hours %i minutes and %s seconds.' % (thour, tmin, round(tsec, 2)))"
   ]
  },
  {
   "cell_type": "code",
   "execution_count": 26,
   "metadata": {},
   "outputs": [
    {
     "name": "stdout",
     "output_type": "stream",
     "text": [
      "Fitting 10 folds for each of 57600 candidates, totalling 576000 fits\n"
     ]
    },
    {
     "name": "stderr",
     "output_type": "stream",
     "text": [
      "[Parallel(n_jobs=-1)]: Using backend LokyBackend with 12 concurrent workers.\n",
      "[Parallel(n_jobs=-1)]: Done   8 tasks      | elapsed:    3.2s\n",
      "[Parallel(n_jobs=-1)]: Done 152 tasks      | elapsed:    3.8s\n",
      "[Parallel(n_jobs=-1)]: Done 1368 tasks      | elapsed:    6.5s\n",
      "[Parallel(n_jobs=-1)]: Done 3160 tasks      | elapsed:   10.3s\n",
      "[Parallel(n_jobs=-1)]: Done 5464 tasks      | elapsed:   14.9s\n",
      "[Parallel(n_jobs=-1)]: Done 8280 tasks      | elapsed:   20.1s\n",
      "[Parallel(n_jobs=-1)]: Done 11608 tasks      | elapsed:   26.0s\n",
      "[Parallel(n_jobs=-1)]: Done 15448 tasks      | elapsed:   32.7s\n",
      "[Parallel(n_jobs=-1)]: Done 19800 tasks      | elapsed:   40.3s\n",
      "[Parallel(n_jobs=-1)]: Done 24664 tasks      | elapsed:   48.6s\n",
      "[Parallel(n_jobs=-1)]: Done 30040 tasks      | elapsed:   57.4s\n",
      "[Parallel(n_jobs=-1)]: Done 35928 tasks      | elapsed:  1.1min\n",
      "[Parallel(n_jobs=-1)]: Done 42328 tasks      | elapsed:  1.3min\n",
      "[Parallel(n_jobs=-1)]: Done 49240 tasks      | elapsed:  1.5min\n",
      "[Parallel(n_jobs=-1)]: Done 56664 tasks      | elapsed:  1.7min\n",
      "[Parallel(n_jobs=-1)]: Done 64600 tasks      | elapsed:  1.9min\n",
      "[Parallel(n_jobs=-1)]: Done 73048 tasks      | elapsed:  2.2min\n",
      "[Parallel(n_jobs=-1)]: Done 82008 tasks      | elapsed:  2.4min\n",
      "[Parallel(n_jobs=-1)]: Done 91480 tasks      | elapsed:  2.7min\n",
      "[Parallel(n_jobs=-1)]: Done 101464 tasks      | elapsed:  3.0min\n",
      "[Parallel(n_jobs=-1)]: Done 111960 tasks      | elapsed:  3.3min\n",
      "[Parallel(n_jobs=-1)]: Done 122968 tasks      | elapsed:  3.6min\n",
      "[Parallel(n_jobs=-1)]: Done 134488 tasks      | elapsed:  4.0min\n",
      "[Parallel(n_jobs=-1)]: Done 146520 tasks      | elapsed:  4.4min\n",
      "[Parallel(n_jobs=-1)]: Done 159064 tasks      | elapsed:  4.7min\n",
      "[Parallel(n_jobs=-1)]: Done 172120 tasks      | elapsed:  5.1min\n",
      "[Parallel(n_jobs=-1)]: Done 185688 tasks      | elapsed:  5.5min\n",
      "[Parallel(n_jobs=-1)]: Done 199768 tasks      | elapsed:  5.9min\n",
      "[Parallel(n_jobs=-1)]: Done 214360 tasks      | elapsed:  6.4min\n",
      "[Parallel(n_jobs=-1)]: Done 229464 tasks      | elapsed:  6.8min\n",
      "[Parallel(n_jobs=-1)]: Done 245080 tasks      | elapsed:  7.3min\n",
      "[Parallel(n_jobs=-1)]: Done 261208 tasks      | elapsed:  7.7min\n",
      "[Parallel(n_jobs=-1)]: Done 277848 tasks      | elapsed:  8.2min\n",
      "[Parallel(n_jobs=-1)]: Done 295000 tasks      | elapsed:  8.8min\n",
      "[Parallel(n_jobs=-1)]: Done 312664 tasks      | elapsed:  9.3min\n",
      "[Parallel(n_jobs=-1)]: Done 330840 tasks      | elapsed:  9.8min\n",
      "[Parallel(n_jobs=-1)]: Done 349528 tasks      | elapsed: 10.4min\n",
      "[Parallel(n_jobs=-1)]: Done 368728 tasks      | elapsed: 11.0min\n",
      "[Parallel(n_jobs=-1)]: Done 388440 tasks      | elapsed: 11.5min\n",
      "[Parallel(n_jobs=-1)]: Done 408664 tasks      | elapsed: 12.1min\n",
      "[Parallel(n_jobs=-1)]: Done 429400 tasks      | elapsed: 12.8min\n",
      "[Parallel(n_jobs=-1)]: Done 450648 tasks      | elapsed: 13.4min\n",
      "[Parallel(n_jobs=-1)]: Done 472408 tasks      | elapsed: 14.0min\n",
      "[Parallel(n_jobs=-1)]: Done 494680 tasks      | elapsed: 14.7min\n",
      "[Parallel(n_jobs=-1)]: Done 517464 tasks      | elapsed: 15.4min\n",
      "[Parallel(n_jobs=-1)]: Done 540760 tasks      | elapsed: 16.0min\n",
      "[Parallel(n_jobs=-1)]: Done 564568 tasks      | elapsed: 16.7min\n",
      "[Parallel(n_jobs=-1)]: Done 576000 out of 576000 | elapsed: 17.1min finished\n"
     ]
    },
    {
     "name": "stdout",
     "output_type": "stream",
     "text": [
      "\n",
      " Time taken: 0 hours 17 minutes and 7.56 seconds.\n"
     ]
    }
   ],
   "source": [
    "start_time = timer(None)\n",
    "random_search.fit(X,y)\n",
    "timer(start_time)"
   ]
  },
  {
   "cell_type": "code",
   "execution_count": 27,
   "metadata": {},
   "outputs": [
    {
     "name": "stdout",
     "output_type": "stream",
     "text": [
      "{'max_depth': 9, 'max_features': 'log2', 'max_leaf_nodes': 90, 'min_samples_leaf': 6, 'min_weight_fraction_leaf': 0.1, 'splitter': 'best'}\n",
      "-10243.184259141926\n"
     ]
    }
   ],
   "source": [
    "#Printing Best Parameters and Score\n",
    "print(random_search.best_params_)\n",
    "print(random_search.best_score_)"
   ]
  },
  {
   "cell_type": "code",
   "execution_count": 38,
   "metadata": {},
   "outputs": [
    {
     "data": {
      "text/plain": [
       "<AxesSubplot:xlabel='AQI', ylabel='Density'>"
      ]
     },
     "execution_count": 38,
     "metadata": {},
     "output_type": "execute_result"
    },
    {
     "data": {
      "image/png": "[encoded data removed]",
      "text/plain": [
       "<Figure size 432x288 with 1 Axes>"
      ]
     },
     "metadata": {
      "needs_background": "light"
     },
     "output_type": "display_data"
    }
   ],
   "source": [
    "tuned_pred=random_search.predict(X_test)\n",
    "sns.distplot(y_test-tuned_pred)"
   ]
  },
  {
   "cell_type": "code",
   "execution_count": 39,
   "metadata": {},
   "outputs": [
    {
     "name": "stdout",
     "output_type": "stream",
     "text": [
      "MAE: 64.15941645599406\n",
      "MSE: 11075.04197070183\n",
      "RMSE: 105.23802530787923\n"
     ]
    }
   ],
   "source": [
    "print('MAE:', metrics.mean_absolute_error(y_test, tuned_pred))\n",
    "print('MSE:', metrics.mean_squared_error(y_test, tuned_pred))\n",
    "print('RMSE:', np.sqrt(metrics.mean_squared_error(y_test, tuned_pred)))"
   ]
  },
  {
   "cell_type": "code",
   "execution_count": 31,
   "metadata": {},
   "outputs": [
    {
     "data": {
      "text/plain": [
       "0.7729611199660684"
      ]
     },
     "execution_count": 31,
     "metadata": {},
     "output_type": "execute_result"
    }
   ],
   "source": [
    "r2_score(y_test, prediction)"
   ]
  },
  {
   "cell_type": "markdown",
   "metadata": {},
   "source": [
    "# Insights\n",
    "- Even after tunning, we are not getting high accuracy.\n",
    "- MSE is too high which is making model dumb"
   ]
  },
  {
   "cell_type": "code",
   "execution_count": null,
   "metadata": {},
   "outputs": [],
   "source": []
  }
 ],
 "metadata": {
  "kernelspec": {
   "display_name": "Python 3",
   "language": "python",
   "name": "python3"
  },
  "language_info": {
   "codemirror_mode": {
    "name": "ipython",
    "version": 3
   },
   "file_extension": ".py",
   "mimetype": "text/x-python",
   "name": "python",
   "nbconvert_exporter": "python",
   "pygments_lexer": "ipython3",
   "version": "3.8.5"
  }
 },
 "nbformat": 4,
 "nbformat_minor": 4
}
