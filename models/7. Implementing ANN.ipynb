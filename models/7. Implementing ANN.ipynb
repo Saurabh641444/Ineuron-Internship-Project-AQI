{
 "cells": [
  {
   "cell_type": "markdown",
   "metadata": {},
   "source": [
    "# Implementing ANN"
   ]
  },
  {
   "cell_type": "markdown",
   "metadata": {},
   "source": [
    "Authors:\n",
    "- Nooruddin Shaikh\n",
    "- Milind Sai\n",
    "- Saurabh Jejurkar\n",
    "- Kartik Bhargav"
   ]
  },
  {
   "cell_type": "code",
   "execution_count": 24,
   "metadata": {
    "id": "hZFYfpzZbt2l"
   },
   "outputs": [],
   "source": [
    "import pandas as pd\n",
    "import numpy as np\n",
    "import seaborn as sns\n",
    "import matplotlib.pyplot as plt\n",
    "from sklearn.model_selection import train_test_split\n",
    "from sklearn import metrics\n",
    "import keras\n",
    "from keras.models import Sequential\n",
    "from keras.layers import Dense\n",
    "from keras.layers import LeakyReLU,PReLU,ELU\n",
    "from keras.layers import Dropout\n",
    "import tensorflow as tf"
   ]
  },
  {
   "cell_type": "code",
   "execution_count": 3,
   "metadata": {
    "id": "X8cnOjp2buYQ"
   },
   "outputs": [
    {
     "data": {
      "text/html": [
       "<div>\n",
       "<style scoped>\n",
       "    .dataframe tbody tr th:only-of-type {\n",
       "        vertical-align: middle;\n",
       "    }\n",
       "\n",
       "    .dataframe tbody tr th {\n",
       "        vertical-align: top;\n",
       "    }\n",
       "\n",
       "    .dataframe thead th {\n",
       "        text-align: right;\n",
       "    }\n",
       "</style>\n",
       "<table border=\"1\" class=\"dataframe\">\n",
       "  <thead>\n",
       "    <tr style=\"text-align: right;\">\n",
       "      <th></th>\n",
       "      <th>PM2.5</th>\n",
       "      <th>NO2</th>\n",
       "      <th>CO</th>\n",
       "      <th>SO2</th>\n",
       "      <th>O3</th>\n",
       "      <th>AQI</th>\n",
       "    </tr>\n",
       "  </thead>\n",
       "  <tbody>\n",
       "    <tr>\n",
       "      <th>0</th>\n",
       "      <td>83.13</td>\n",
       "      <td>28.71</td>\n",
       "      <td>6.93</td>\n",
       "      <td>49.52</td>\n",
       "      <td>59.76</td>\n",
       "      <td>209.0</td>\n",
       "    </tr>\n",
       "    <tr>\n",
       "      <th>1</th>\n",
       "      <td>79.84</td>\n",
       "      <td>28.68</td>\n",
       "      <td>13.85</td>\n",
       "      <td>48.49</td>\n",
       "      <td>97.07</td>\n",
       "      <td>328.0</td>\n",
       "    </tr>\n",
       "    <tr>\n",
       "      <th>2</th>\n",
       "      <td>94.52</td>\n",
       "      <td>32.66</td>\n",
       "      <td>24.39</td>\n",
       "      <td>67.39</td>\n",
       "      <td>111.33</td>\n",
       "      <td>514.0</td>\n",
       "    </tr>\n",
       "    <tr>\n",
       "      <th>3</th>\n",
       "      <td>135.99</td>\n",
       "      <td>42.08</td>\n",
       "      <td>43.48</td>\n",
       "      <td>75.23</td>\n",
       "      <td>102.70</td>\n",
       "      <td>782.0</td>\n",
       "    </tr>\n",
       "    <tr>\n",
       "      <th>4</th>\n",
       "      <td>178.33</td>\n",
       "      <td>35.31</td>\n",
       "      <td>54.56</td>\n",
       "      <td>55.04</td>\n",
       "      <td>107.38</td>\n",
       "      <td>914.0</td>\n",
       "    </tr>\n",
       "  </tbody>\n",
       "</table>\n",
       "</div>"
      ],
      "text/plain": [
       "    PM2.5    NO2     CO    SO2      O3    AQI\n",
       "0   83.13  28.71   6.93  49.52   59.76  209.0\n",
       "1   79.84  28.68  13.85  48.49   97.07  328.0\n",
       "2   94.52  32.66  24.39  67.39  111.33  514.0\n",
       "3  135.99  42.08  43.48  75.23  102.70  782.0\n",
       "4  178.33  35.31  54.56  55.04  107.38  914.0"
      ]
     },
     "execution_count": 3,
     "metadata": {},
     "output_type": "execute_result"
    }
   ],
   "source": [
    "data = pd.read_csv(\"Data/final_data.csv\")\n",
    "data.head()"
   ]
  },
  {
   "cell_type": "code",
   "execution_count": 7,
   "metadata": {
    "id": "3pv03lDzkB4i"
   },
   "outputs": [],
   "source": [
    "#Splitting Data\n",
    "X = data.iloc[:, :-1] #Independent features\n",
    "y = data.iloc[:, -1] #Dependent feature\n",
    "\n",
    "#Train Test Splitting\n",
    "X_train, X_test, y_train, y_test = train_test_split(X, y, test_size=0.3, random_state=1)"
   ]
  },
  {
   "cell_type": "code",
   "execution_count": 17,
   "metadata": {},
   "outputs": [
    {
     "name": "stdout",
     "output_type": "stream",
     "text": [
      "Model: \"sequential_3\"\n",
      "_________________________________________________________________\n",
      "Layer (type)                 Output Shape              Param #   \n",
      "=================================================================\n",
      "dense_13 (Dense)             (None, 128)               768       \n",
      "_________________________________________________________________\n",
      "dense_14 (Dense)             (None, 256)               33024     \n",
      "_________________________________________________________________\n",
      "dense_15 (Dense)             (None, 256)               65792     \n",
      "_________________________________________________________________\n",
      "dense_16 (Dense)             (None, 256)               65792     \n",
      "_________________________________________________________________\n",
      "dense_17 (Dense)             (None, 1)                 257       \n",
      "=================================================================\n",
      "Total params: 165,633\n",
      "Trainable params: 165,633\n",
      "Non-trainable params: 0\n",
      "_________________________________________________________________\n",
      "Epoch 1/100\n",
      "1061/1061 [==============================] - 3s 2ms/step - loss: 42.5733 - mean_absolute_error: 42.5733 - val_loss: 29.4579 - val_mean_absolute_error: 29.4579\n",
      "Epoch 2/100\n",
      "1061/1061 [==============================] - 2s 2ms/step - loss: 30.9060 - mean_absolute_error: 30.9060 - val_loss: 29.7086 - val_mean_absolute_error: 29.7086\n",
      "Epoch 3/100\n",
      "1061/1061 [==============================] - 2s 2ms/step - loss: 30.3571 - mean_absolute_error: 30.3571 - val_loss: 28.9390 - val_mean_absolute_error: 28.9390\n",
      "Epoch 4/100\n",
      "1061/1061 [==============================] - 2s 2ms/step - loss: 29.9329 - mean_absolute_error: 29.9329 - val_loss: 28.2394 - val_mean_absolute_error: 28.2394\n",
      "Epoch 5/100\n",
      "1061/1061 [==============================] - 2s 2ms/step - loss: 29.4455 - mean_absolute_error: 29.4455 - val_loss: 29.6646 - val_mean_absolute_error: 29.6646\n",
      "Epoch 6/100\n",
      "1061/1061 [==============================] - 2s 2ms/step - loss: 29.2357 - mean_absolute_error: 29.2357 - val_loss: 28.1368 - val_mean_absolute_error: 28.1368\n",
      "Epoch 7/100\n",
      "1061/1061 [==============================] - 2s 2ms/step - loss: 29.6363 - mean_absolute_error: 29.6363 - val_loss: 32.9170 - val_mean_absolute_error: 32.9170\n",
      "Epoch 8/100\n",
      "1061/1061 [==============================] - 3s 2ms/step - loss: 29.6885 - mean_absolute_error: 29.6885 - val_loss: 29.6660 - val_mean_absolute_error: 29.6660\n",
      "Epoch 9/100\n",
      "1061/1061 [==============================] - 2s 2ms/step - loss: 29.4481 - mean_absolute_error: 29.4481 - val_loss: 28.1304 - val_mean_absolute_error: 28.1304\n",
      "Epoch 10/100\n",
      "1061/1061 [==============================] - 2s 1ms/step - loss: 29.9709 - mean_absolute_error: 29.9709 - val_loss: 29.0584 - val_mean_absolute_error: 29.0584\n",
      "Epoch 11/100\n",
      "1061/1061 [==============================] - 2s 2ms/step - loss: 27.9728 - mean_absolute_error: 27.9728 - val_loss: 29.1453 - val_mean_absolute_error: 29.1453\n",
      "Epoch 12/100\n",
      "1061/1061 [==============================] - 2s 2ms/step - loss: 28.7146 - mean_absolute_error: 28.7146 - val_loss: 30.9918 - val_mean_absolute_error: 30.9918\n",
      "Epoch 13/100\n",
      "1061/1061 [==============================] - 2s 2ms/step - loss: 28.7267 - mean_absolute_error: 28.7267 - val_loss: 28.6723 - val_mean_absolute_error: 28.6723\n",
      "Epoch 14/100\n",
      "1061/1061 [==============================] - 2s 2ms/step - loss: 28.7559 - mean_absolute_error: 28.7559 - val_loss: 28.7049 - val_mean_absolute_error: 28.7049\n",
      "Epoch 15/100\n",
      "1061/1061 [==============================] - 2s 2ms/step - loss: 28.0817 - mean_absolute_error: 28.0817 - val_loss: 28.0812 - val_mean_absolute_error: 28.0812\n",
      "Epoch 16/100\n",
      "1061/1061 [==============================] - 2s 2ms/step - loss: 28.3444 - mean_absolute_error: 28.3444 - val_loss: 28.0817 - val_mean_absolute_error: 28.0817\n",
      "Epoch 17/100\n",
      "1061/1061 [==============================] - 2s 2ms/step - loss: 27.4914 - mean_absolute_error: 27.4914 - val_loss: 29.9195 - val_mean_absolute_error: 29.9195\n",
      "Epoch 18/100\n",
      "1061/1061 [==============================] - 2s 2ms/step - loss: 27.9673 - mean_absolute_error: 27.9673 - val_loss: 27.5006 - val_mean_absolute_error: 27.5006\n",
      "Epoch 19/100\n",
      "1061/1061 [==============================] - 2s 2ms/step - loss: 28.3193 - mean_absolute_error: 28.3193 - val_loss: 27.1574 - val_mean_absolute_error: 27.1574\n",
      "Epoch 20/100\n",
      "1061/1061 [==============================] - 2s 2ms/step - loss: 27.5674 - mean_absolute_error: 27.5674 - val_loss: 27.0074 - val_mean_absolute_error: 27.0074\n",
      "Epoch 21/100\n",
      "1061/1061 [==============================] - 2s 2ms/step - loss: 27.8843 - mean_absolute_error: 27.8843 - val_loss: 30.9326 - val_mean_absolute_error: 30.9326\n",
      "Epoch 22/100\n",
      "1061/1061 [==============================] - 2s 2ms/step - loss: 27.7042 - mean_absolute_error: 27.7042 - val_loss: 26.8746 - val_mean_absolute_error: 26.8746\n",
      "Epoch 23/100\n",
      "1061/1061 [==============================] - 2s 2ms/step - loss: 27.1722 - mean_absolute_error: 27.1722 - val_loss: 27.9328 - val_mean_absolute_error: 27.9328\n",
      "Epoch 24/100\n",
      "1061/1061 [==============================] - 2s 2ms/step - loss: 27.9087 - mean_absolute_error: 27.9087 - val_loss: 27.0646 - val_mean_absolute_error: 27.0646\n",
      "Epoch 25/100\n",
      "1061/1061 [==============================] - 2s 2ms/step - loss: 26.7101 - mean_absolute_error: 26.7101 - val_loss: 27.3115 - val_mean_absolute_error: 27.3115\n",
      "Epoch 26/100\n",
      "1061/1061 [==============================] - 2s 2ms/step - loss: 26.4474 - mean_absolute_error: 26.4474 - val_loss: 28.9340 - val_mean_absolute_error: 28.9340\n",
      "Epoch 27/100\n",
      "1061/1061 [==============================] - 2s 2ms/step - loss: 26.8268 - mean_absolute_error: 26.8268 - val_loss: 25.7935 - val_mean_absolute_error: 25.7935\n",
      "Epoch 28/100\n",
      "1061/1061 [==============================] - 2s 2ms/step - loss: 26.6214 - mean_absolute_error: 26.6214 - val_loss: 26.0483 - val_mean_absolute_error: 26.0483\n",
      "Epoch 29/100\n",
      "1061/1061 [==============================] - 2s 2ms/step - loss: 25.3473 - mean_absolute_error: 25.3473 - val_loss: 25.7603 - val_mean_absolute_error: 25.7603\n",
      "Epoch 30/100\n",
      "1061/1061 [==============================] - 2s 2ms/step - loss: 26.1007 - mean_absolute_error: 26.1007 - val_loss: 26.5222 - val_mean_absolute_error: 26.5222\n",
      "Epoch 31/100\n",
      "1061/1061 [==============================] - 2s 1ms/step - loss: 25.4501 - mean_absolute_error: 25.4501 - val_loss: 25.4064 - val_mean_absolute_error: 25.4064\n",
      "Epoch 32/100\n",
      "1061/1061 [==============================] - 1s 1ms/step - loss: 25.4085 - mean_absolute_error: 25.4085 - val_loss: 24.7547 - val_mean_absolute_error: 24.7547\n",
      "Epoch 33/100\n",
      "1061/1061 [==============================] - 2s 1ms/step - loss: 24.9467 - mean_absolute_error: 24.9467 - val_loss: 26.1025 - val_mean_absolute_error: 26.1025\n",
      "Epoch 34/100\n",
      "1061/1061 [==============================] - 2s 1ms/step - loss: 25.3175 - mean_absolute_error: 25.3175 - val_loss: 26.5470 - val_mean_absolute_error: 26.5470\n",
      "Epoch 35/100\n",
      "1061/1061 [==============================] - 2s 1ms/step - loss: 25.5410 - mean_absolute_error: 25.5410 - val_loss: 25.6013 - val_mean_absolute_error: 25.6013\n",
      "Epoch 36/100\n",
      "1061/1061 [==============================] - 2s 1ms/step - loss: 25.6975 - mean_absolute_error: 25.6975 - val_loss: 25.1967 - val_mean_absolute_error: 25.1967\n",
      "Epoch 37/100\n",
      "1061/1061 [==============================] - 2s 2ms/step - loss: 25.1636 - mean_absolute_error: 25.1636 - val_loss: 25.9658 - val_mean_absolute_error: 25.9658\n",
      "Epoch 38/100\n",
      "1061/1061 [==============================] - 2s 1ms/step - loss: 24.4916 - mean_absolute_error: 24.4916 - val_loss: 25.5088 - val_mean_absolute_error: 25.5088\n",
      "Epoch 39/100\n",
      "1061/1061 [==============================] - 2s 2ms/step - loss: 24.8768 - mean_absolute_error: 24.8768 - val_loss: 24.8546 - val_mean_absolute_error: 24.8546\n",
      "Epoch 40/100\n",
      "1061/1061 [==============================] - 2s 2ms/step - loss: 25.7440 - mean_absolute_error: 25.7440 - val_loss: 24.7660 - val_mean_absolute_error: 24.7660\n",
      "Epoch 41/100\n",
      "1061/1061 [==============================] - 2s 1ms/step - loss: 25.0350 - mean_absolute_error: 25.0350 - val_loss: 25.5797 - val_mean_absolute_error: 25.5797\n",
      "Epoch 42/100\n",
      "1061/1061 [==============================] - 2s 2ms/step - loss: 24.1163 - mean_absolute_error: 24.1163 - val_loss: 24.3523 - val_mean_absolute_error: 24.3523\n"
     ]
    },
    {
     "name": "stdout",
     "output_type": "stream",
     "text": [
      "Epoch 43/100\n",
      "1061/1061 [==============================] - 2s 2ms/step - loss: 25.0538 - mean_absolute_error: 25.0538 - val_loss: 25.1243 - val_mean_absolute_error: 25.1243\n",
      "Epoch 44/100\n",
      "1061/1061 [==============================] - 1s 1ms/step - loss: 25.2479 - mean_absolute_error: 25.2479 - val_loss: 24.7839 - val_mean_absolute_error: 24.7839\n",
      "Epoch 45/100\n",
      "1061/1061 [==============================] - 2s 1ms/step - loss: 24.5927 - mean_absolute_error: 24.5927 - val_loss: 25.7257 - val_mean_absolute_error: 25.7257\n",
      "Epoch 46/100\n",
      "1061/1061 [==============================] - 2s 1ms/step - loss: 24.9175 - mean_absolute_error: 24.9175 - val_loss: 24.3083 - val_mean_absolute_error: 24.3083\n",
      "Epoch 47/100\n",
      "1061/1061 [==============================] - 2s 1ms/step - loss: 25.1549 - mean_absolute_error: 25.1549 - val_loss: 24.7406 - val_mean_absolute_error: 24.7406\n",
      "Epoch 48/100\n",
      "1061/1061 [==============================] - 2s 2ms/step - loss: 24.5373 - mean_absolute_error: 24.5373 - val_loss: 24.1202 - val_mean_absolute_error: 24.1202\n",
      "Epoch 49/100\n",
      "1061/1061 [==============================] - 2s 1ms/step - loss: 24.5717 - mean_absolute_error: 24.5717 - val_loss: 24.2556 - val_mean_absolute_error: 24.2556\n",
      "Epoch 50/100\n",
      "1061/1061 [==============================] - 2s 1ms/step - loss: 24.9298 - mean_absolute_error: 24.9298 - val_loss: 26.1567 - val_mean_absolute_error: 26.1567\n",
      "Epoch 51/100\n",
      "1061/1061 [==============================] - 2s 2ms/step - loss: 25.4041 - mean_absolute_error: 25.4041 - val_loss: 24.2930 - val_mean_absolute_error: 24.2930\n",
      "Epoch 52/100\n",
      "1061/1061 [==============================] - 2s 2ms/step - loss: 24.7057 - mean_absolute_error: 24.7057 - val_loss: 24.7935 - val_mean_absolute_error: 24.7935\n",
      "Epoch 53/100\n",
      "1061/1061 [==============================] - 2s 1ms/step - loss: 25.4101 - mean_absolute_error: 25.4101 - val_loss: 24.6918 - val_mean_absolute_error: 24.6918\n",
      "Epoch 54/100\n",
      "1061/1061 [==============================] - 2s 2ms/step - loss: 24.2333 - mean_absolute_error: 24.2333 - val_loss: 24.0650 - val_mean_absolute_error: 24.0650\n",
      "Epoch 55/100\n",
      "1061/1061 [==============================] - 2s 1ms/step - loss: 24.0938 - mean_absolute_error: 24.0938 - val_loss: 24.7988 - val_mean_absolute_error: 24.7988\n",
      "Epoch 56/100\n",
      "1061/1061 [==============================] - 2s 1ms/step - loss: 24.3908 - mean_absolute_error: 24.3908 - val_loss: 25.6904 - val_mean_absolute_error: 25.6904\n",
      "Epoch 57/100\n",
      "1061/1061 [==============================] - 2s 2ms/step - loss: 24.1272 - mean_absolute_error: 24.1272 - val_loss: 24.6856 - val_mean_absolute_error: 24.6856\n",
      "Epoch 58/100\n",
      "1061/1061 [==============================] - 2s 2ms/step - loss: 24.1017 - mean_absolute_error: 24.1017 - val_loss: 24.0696 - val_mean_absolute_error: 24.0696\n",
      "Epoch 59/100\n",
      "1061/1061 [==============================] - 2s 2ms/step - loss: 23.9593 - mean_absolute_error: 23.9593 - val_loss: 25.1983 - val_mean_absolute_error: 25.1983\n",
      "Epoch 60/100\n",
      "1061/1061 [==============================] - 2s 2ms/step - loss: 23.8941 - mean_absolute_error: 23.8941 - val_loss: 24.3930 - val_mean_absolute_error: 24.3930\n",
      "Epoch 61/100\n",
      "1061/1061 [==============================] - 2s 2ms/step - loss: 25.0438 - mean_absolute_error: 25.0438 - val_loss: 25.6063 - val_mean_absolute_error: 25.6063\n",
      "Epoch 62/100\n",
      "1061/1061 [==============================] - 2s 2ms/step - loss: 24.4011 - mean_absolute_error: 24.4011 - val_loss: 24.1209 - val_mean_absolute_error: 24.1209\n",
      "Epoch 63/100\n",
      "1061/1061 [==============================] - 2s 2ms/step - loss: 23.9324 - mean_absolute_error: 23.9324 - val_loss: 25.5352 - val_mean_absolute_error: 25.5352\n",
      "Epoch 64/100\n",
      "1061/1061 [==============================] - 2s 2ms/step - loss: 24.6434 - mean_absolute_error: 24.6434 - val_loss: 25.0753 - val_mean_absolute_error: 25.0753\n",
      "Epoch 65/100\n",
      "1061/1061 [==============================] - 2s 1ms/step - loss: 24.9866 - mean_absolute_error: 24.9866 - val_loss: 25.4807 - val_mean_absolute_error: 25.4807\n",
      "Epoch 66/100\n",
      "1061/1061 [==============================] - 2s 2ms/step - loss: 24.5380 - mean_absolute_error: 24.5380 - val_loss: 24.1473 - val_mean_absolute_error: 24.1473\n",
      "Epoch 67/100\n",
      "1061/1061 [==============================] - 2s 2ms/step - loss: 24.4194 - mean_absolute_error: 24.4194 - val_loss: 24.0089 - val_mean_absolute_error: 24.0089\n",
      "Epoch 68/100\n",
      "1061/1061 [==============================] - 2s 1ms/step - loss: 23.8693 - mean_absolute_error: 23.8692 - val_loss: 26.2607 - val_mean_absolute_error: 26.2607\n",
      "Epoch 69/100\n",
      "1061/1061 [==============================] - 2s 1ms/step - loss: 24.2627 - mean_absolute_error: 24.2627 - val_loss: 24.5081 - val_mean_absolute_error: 24.5081\n",
      "Epoch 70/100\n",
      "1061/1061 [==============================] - 2s 2ms/step - loss: 24.5297 - mean_absolute_error: 24.5297 - val_loss: 25.3925 - val_mean_absolute_error: 25.3925\n",
      "Epoch 71/100\n",
      "1061/1061 [==============================] - 2s 2ms/step - loss: 23.7407 - mean_absolute_error: 23.7407 - val_loss: 24.2517 - val_mean_absolute_error: 24.2517\n",
      "Epoch 72/100\n",
      "1061/1061 [==============================] - 2s 2ms/step - loss: 23.9717 - mean_absolute_error: 23.9717 - val_loss: 24.0814 - val_mean_absolute_error: 24.0814\n",
      "Epoch 73/100\n",
      "1061/1061 [==============================] - 2s 2ms/step - loss: 24.1347 - mean_absolute_error: 24.1347 - val_loss: 24.0762 - val_mean_absolute_error: 24.0762\n",
      "Epoch 74/100\n",
      "1061/1061 [==============================] - 2s 2ms/step - loss: 23.8032 - mean_absolute_error: 23.8032 - val_loss: 24.4418 - val_mean_absolute_error: 24.4418\n",
      "Epoch 75/100\n",
      "1061/1061 [==============================] - 2s 2ms/step - loss: 24.2371 - mean_absolute_error: 24.2371 - val_loss: 26.9394 - val_mean_absolute_error: 26.9394\n",
      "Epoch 76/100\n",
      "1061/1061 [==============================] - 2s 2ms/step - loss: 23.9142 - mean_absolute_error: 23.9142 - val_loss: 24.1911 - val_mean_absolute_error: 24.1911\n",
      "Epoch 77/100\n",
      "1061/1061 [==============================] - 2s 2ms/step - loss: 24.1340 - mean_absolute_error: 24.1340 - val_loss: 24.7909 - val_mean_absolute_error: 24.7909\n",
      "Epoch 78/100\n",
      "1061/1061 [==============================] - 2s 2ms/step - loss: 23.0285 - mean_absolute_error: 23.0285 - val_loss: 24.1540 - val_mean_absolute_error: 24.1540\n",
      "Epoch 79/100\n",
      "1061/1061 [==============================] - 2s 2ms/step - loss: 23.4991 - mean_absolute_error: 23.4991 - val_loss: 24.0201 - val_mean_absolute_error: 24.0201\n",
      "Epoch 80/100\n",
      "1061/1061 [==============================] - 2s 2ms/step - loss: 24.5534 - mean_absolute_error: 24.5534 - val_loss: 25.0919 - val_mean_absolute_error: 25.0919\n",
      "Epoch 81/100\n",
      "1061/1061 [==============================] - 2s 2ms/step - loss: 24.1054 - mean_absolute_error: 24.1054 - val_loss: 24.5553 - val_mean_absolute_error: 24.5553\n",
      "Epoch 82/100\n",
      "1061/1061 [==============================] - 2s 2ms/step - loss: 24.3976 - mean_absolute_error: 24.3976 - val_loss: 25.0109 - val_mean_absolute_error: 25.0109\n",
      "Epoch 83/100\n",
      "1061/1061 [==============================] - 2s 2ms/step - loss: 23.8916 - mean_absolute_error: 23.8916 - val_loss: 24.4770 - val_mean_absolute_error: 24.4770\n",
      "Epoch 84/100\n",
      "1061/1061 [==============================] - 2s 2ms/step - loss: 23.5073 - mean_absolute_error: 23.5073 - val_loss: 27.2529 - val_mean_absolute_error: 27.2529\n",
      "Epoch 85/100\n",
      "1061/1061 [==============================] - 2s 2ms/step - loss: 23.9867 - mean_absolute_error: 23.9867 - val_loss: 25.5051 - val_mean_absolute_error: 25.5051\n",
      "Epoch 86/100\n",
      "1061/1061 [==============================] - 2s 2ms/step - loss: 23.7803 - mean_absolute_error: 23.7803 - val_loss: 23.8958 - val_mean_absolute_error: 23.8958\n",
      "Epoch 87/100\n",
      "1061/1061 [==============================] - 2s 2ms/step - loss: 23.7328 - mean_absolute_error: 23.7328 - val_loss: 24.8956 - val_mean_absolute_error: 24.8956\n",
      "Epoch 88/100\n",
      "1061/1061 [==============================] - 2s 2ms/step - loss: 23.6078 - mean_absolute_error: 23.6078 - val_loss: 24.9666 - val_mean_absolute_error: 24.9666\n",
      "Epoch 89/100\n",
      "1061/1061 [==============================] - 2s 2ms/step - loss: 23.3259 - mean_absolute_error: 23.3259 - val_loss: 24.3550 - val_mean_absolute_error: 24.3550\n",
      "Epoch 90/100\n"
     ]
    },
    {
     "name": "stdout",
     "output_type": "stream",
     "text": [
      "1061/1061 [==============================] - 2s 2ms/step - loss: 24.3171 - mean_absolute_error: 24.3171 - val_loss: 23.8160 - val_mean_absolute_error: 23.8160\n",
      "Epoch 91/100\n",
      "1061/1061 [==============================] - 2s 1ms/step - loss: 24.5796 - mean_absolute_error: 24.5796 - val_loss: 23.8128 - val_mean_absolute_error: 23.8128\n",
      "Epoch 92/100\n",
      "1061/1061 [==============================] - 2s 2ms/step - loss: 23.7524 - mean_absolute_error: 23.7524 - val_loss: 24.3962 - val_mean_absolute_error: 24.3962\n",
      "Epoch 93/100\n",
      "1061/1061 [==============================] - 2s 1ms/step - loss: 23.6051 - mean_absolute_error: 23.6051 - val_loss: 24.5398 - val_mean_absolute_error: 24.5398\n",
      "Epoch 94/100\n",
      "1061/1061 [==============================] - 2s 2ms/step - loss: 23.8676 - mean_absolute_error: 23.8676 - val_loss: 24.1749 - val_mean_absolute_error: 24.1749\n",
      "Epoch 95/100\n",
      "1061/1061 [==============================] - 2s 1ms/step - loss: 24.0448 - mean_absolute_error: 24.0448 - val_loss: 23.9826 - val_mean_absolute_error: 23.9826\n",
      "Epoch 96/100\n",
      "1061/1061 [==============================] - 2s 2ms/step - loss: 23.5039 - mean_absolute_error: 23.5039 - val_loss: 24.6270 - val_mean_absolute_error: 24.6270\n",
      "Epoch 97/100\n",
      "1061/1061 [==============================] - 2s 2ms/step - loss: 22.8973 - mean_absolute_error: 22.8973 - val_loss: 24.0874 - val_mean_absolute_error: 24.0874\n",
      "Epoch 98/100\n",
      "1061/1061 [==============================] - 2s 1ms/step - loss: 23.5194 - mean_absolute_error: 23.5194 - val_loss: 24.5668 - val_mean_absolute_error: 24.5668\n",
      "Epoch 99/100\n",
      "1061/1061 [==============================] - 2s 1ms/step - loss: 23.5377 - mean_absolute_error: 23.5377 - val_loss: 24.8264 - val_mean_absolute_error: 24.8264\n",
      "Epoch 100/100\n",
      "1061/1061 [==============================] - 2s 2ms/step - loss: 23.3721 - mean_absolute_error: 23.3721 - val_loss: 23.9218 - val_mean_absolute_error: 23.9218\n"
     ]
    }
   ],
   "source": [
    "NN_model = Sequential()\n",
    "\n",
    "# The Input Layer :\n",
    "NN_model.add(Dense(128, kernel_initializer='normal',input_dim = X_train.shape[1], activation='relu'))\n",
    "\n",
    "# The Hidden Layers :\n",
    "NN_model.add(Dense(256, kernel_initializer='normal',activation='relu'))\n",
    "NN_model.add(Dense(256, kernel_initializer='normal',activation='relu'))\n",
    "NN_model.add(Dense(256, kernel_initializer='normal',activation='relu'))\n",
    "\n",
    "# The Output Layer :\n",
    "NN_model.add(Dense(1, kernel_initializer='normal',activation='linear'))\n",
    "\n",
    "# Compile the network :\n",
    "NN_model.compile(loss='mean_absolute_error', optimizer='adam', metrics=['mean_absolute_error'])\n",
    "NN_model.summary()\n",
    "\n",
    "# Fitting the ANN to the Training set\n",
    "model_history = NN_model.fit(X_train, y_train,validation_split=0.33, batch_size = 10, epochs = 100)"
   ]
  },
  {
   "cell_type": "code",
   "execution_count": 18,
   "metadata": {},
   "outputs": [],
   "source": [
    "prediction = NN_model.predict(X_test)"
   ]
  },
  {
   "cell_type": "code",
   "execution_count": 20,
   "metadata": {},
   "outputs": [
    {
     "data": {
      "text/plain": [
       "14349     74.0\n",
       "12364    141.0\n",
       "19768    111.0\n",
       "8955     421.0\n",
       "4563      84.0\n",
       "         ...  \n",
       "5416     101.0\n",
       "20306    238.0\n",
       "11165    166.0\n",
       "17234    112.0\n",
       "16172    109.0\n",
       "Name: AQI, Length: 6786, dtype: float64"
      ]
     },
     "execution_count": 20,
     "metadata": {},
     "output_type": "execute_result"
    }
   ],
   "source": [
    "y_test"
   ]
  },
  {
   "cell_type": "code",
   "execution_count": 21,
   "metadata": {},
   "outputs": [
    {
     "name": "stderr",
     "output_type": "stream",
     "text": [
      "C:\\Users\\nooru\\anaconda3\\lib\\site-packages\\seaborn\\distributions.py:2551: FutureWarning: `distplot` is a deprecated function and will be removed in a future version. Please adapt your code to use either `displot` (a figure-level function with similar flexibility) or `histplot` (an axes-level function for histograms).\n",
      "  warnings.warn(msg, FutureWarning)\n"
     ]
    },
    {
     "data": {
      "text/plain": [
       "<AxesSubplot:ylabel='Density'>"
      ]
     },
     "execution_count": 21,
     "metadata": {},
     "output_type": "execute_result"
    },
    {
     "data": {
      "image/png": "[encoded data removed]",
      "text/plain": [
       "<Figure size 432x288 with 1 Axes>"
      ]
     },
     "metadata": {
      "needs_background": "light"
     },
     "output_type": "display_data"
    }
   ],
   "source": [
    "sns.distplot(y_test.values.reshape(-1,1)-prediction)"
   ]
  },
  {
   "cell_type": "code",
   "execution_count": 23,
   "metadata": {},
   "outputs": [
    {
     "data": {
      "text/plain": [
       "<matplotlib.collections.PathCollection at 0x29c8c5b6160>"
      ]
     },
     "execution_count": 23,
     "metadata": {},
     "output_type": "execute_result"
    },
    {
     "data": {
      "image/png": "[encoded data removed]",
      "text/plain": [
       "<Figure size 432x288 with 1 Axes>"
      ]
     },
     "metadata": {
      "needs_background": "light"
     },
     "output_type": "display_data"
    }
   ],
   "source": [
    "plt.scatter(y_test,prediction)"
   ]
  },
  {
   "cell_type": "code",
   "execution_count": 25,
   "metadata": {},
   "outputs": [
    {
     "name": "stdout",
     "output_type": "stream",
     "text": [
      "MAE: 23.971634425492965\n",
      "MSE: 2114.002262484325\n",
      "RMSE: 45.97828033413521\n"
     ]
    }
   ],
   "source": [
    "print('MAE:', metrics.mean_absolute_error(y_test, prediction))\n",
    "print('MSE:', metrics.mean_squared_error(y_test, prediction))\n",
    "print('RMSE:', np.sqrt(metrics.mean_squared_error(y_test, prediction)))"
   ]
  },
  {
   "cell_type": "code",
   "execution_count": 32,
   "metadata": {},
   "outputs": [
    {
     "data": {
      "text/plain": [
       "0.8869935739838328"
      ]
     },
     "execution_count": 32,
     "metadata": {},
     "output_type": "execute_result"
    }
   ],
   "source": [
    "from sklearn.metrics import r2_score\n",
    "r2_score(y_test, prediction)"
   ]
  },
  {
   "cell_type": "markdown",
   "metadata": {},
   "source": [
    "# Prediction"
   ]
  },
  {
   "cell_type": "code",
   "execution_count": 35,
   "metadata": {},
   "outputs": [
    {
     "data": {
      "text/html": [
       "<div>\n",
       "<style scoped>\n",
       "    .dataframe tbody tr th:only-of-type {\n",
       "        vertical-align: middle;\n",
       "    }\n",
       "\n",
       "    .dataframe tbody tr th {\n",
       "        vertical-align: top;\n",
       "    }\n",
       "\n",
       "    .dataframe thead th {\n",
       "        text-align: right;\n",
       "    }\n",
       "</style>\n",
       "<table border=\"1\" class=\"dataframe\">\n",
       "  <thead>\n",
       "    <tr style=\"text-align: right;\">\n",
       "      <th></th>\n",
       "      <th>PM2.5</th>\n",
       "      <th>NO2</th>\n",
       "      <th>CO</th>\n",
       "      <th>SO2</th>\n",
       "      <th>O3</th>\n",
       "    </tr>\n",
       "  </thead>\n",
       "  <tbody>\n",
       "    <tr>\n",
       "      <th>14349</th>\n",
       "      <td>38.82</td>\n",
       "      <td>26.56</td>\n",
       "      <td>0.82</td>\n",
       "      <td>10.25</td>\n",
       "      <td>20.06</td>\n",
       "    </tr>\n",
       "    <tr>\n",
       "      <th>12364</th>\n",
       "      <td>63.58</td>\n",
       "      <td>40.25</td>\n",
       "      <td>0.23</td>\n",
       "      <td>27.84</td>\n",
       "      <td>50.72</td>\n",
       "    </tr>\n",
       "    <tr>\n",
       "      <th>19768</th>\n",
       "      <td>62.33</td>\n",
       "      <td>2.60</td>\n",
       "      <td>0.59</td>\n",
       "      <td>7.46</td>\n",
       "      <td>29.58</td>\n",
       "    </tr>\n",
       "    <tr>\n",
       "      <th>8955</th>\n",
       "      <td>118.43</td>\n",
       "      <td>84.21</td>\n",
       "      <td>0.89</td>\n",
       "      <td>37.55</td>\n",
       "      <td>39.59</td>\n",
       "    </tr>\n",
       "    <tr>\n",
       "      <th>4563</th>\n",
       "      <td>37.67</td>\n",
       "      <td>37.32</td>\n",
       "      <td>1.06</td>\n",
       "      <td>7.06</td>\n",
       "      <td>34.92</td>\n",
       "    </tr>\n",
       "  </tbody>\n",
       "</table>\n",
       "</div>"
      ],
      "text/plain": [
       "        PM2.5    NO2    CO    SO2     O3\n",
       "14349   38.82  26.56  0.82  10.25  20.06\n",
       "12364   63.58  40.25  0.23  27.84  50.72\n",
       "19768   62.33   2.60  0.59   7.46  29.58\n",
       "8955   118.43  84.21  0.89  37.55  39.59\n",
       "4563    37.67  37.32  1.06   7.06  34.92"
      ]
     },
     "execution_count": 35,
     "metadata": {},
     "output_type": "execute_result"
    }
   ],
   "source": [
    "X_test.head()"
   ]
  },
  {
   "cell_type": "code",
   "execution_count": 36,
   "metadata": {},
   "outputs": [
    {
     "data": {
      "text/plain": [
       "14349     74.0\n",
       "12364    141.0\n",
       "19768    111.0\n",
       "8955     421.0\n",
       "4563      84.0\n",
       "Name: AQI, dtype: float64"
      ]
     },
     "execution_count": 36,
     "metadata": {},
     "output_type": "execute_result"
    }
   ],
   "source": [
    "y_test.head()"
   ]
  },
  {
   "cell_type": "code",
   "execution_count": 34,
   "metadata": {},
   "outputs": [
    {
     "name": "stdout",
     "output_type": "stream",
     "text": [
      "[[87.93328]]\n",
      "[[138.57399]]\n",
      "[[128.83249]]\n",
      "[[279.8932]]\n",
      "[[88.93133]]\n"
     ]
    }
   ],
   "source": [
    "print(NN_model.predict([[38.82,26.56,0.82,10.25,20.06]]))\n",
    "print(NN_model.predict([[63.58,40.25,0.23,27.84,50.72]]))\n",
    "print(NN_model.predict([[62.33,2.60,0.59,7.46,29.58]]))\n",
    "print(NN_model.predict([[118.43,84.21,0.89,37.55,39.59]]))\n",
    "print(NN_model.predict([[37.67,37.32,1.06,7.06,34.92]]))"
   ]
  },
  {
   "cell_type": "markdown",
   "metadata": {},
   "source": [
    "# Insights:\n",
    "- ANN is also not giving more zccuracy than Random FOrest\n",
    "- AQI 421 is predicted as 279 which tells ANN is performing bad.\n",
    "- Thus we will use Random Forest as our primary model."
   ]
  },
  {
   "cell_type": "code",
   "execution_count": null,
   "metadata": {},
   "outputs": [],
   "source": []
  }
 ],
 "metadata": {
  "colab": {
   "collapsed_sections": [],
   "name": "AQI_Bucket.ipynb",
   "provenance": []
  },
  "kernelspec": {
   "display_name": "Python 3",
   "language": "python",
   "name": "python3"
  },
  "language_info": {
   "codemirror_mode": {
    "name": "ipython",
    "version": 3
   },
   "file_extension": ".py",
   "mimetype": "text/x-python",
   "name": "python",
   "nbconvert_exporter": "python",
   "pygments_lexer": "ipython3",
   "version": "3.8.5"
  }
 },
 "nbformat": 4,
 "nbformat_minor": 1
}
